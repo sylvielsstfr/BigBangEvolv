{
 "cells": [
  {
   "cell_type": "markdown",
   "id": "07f70e61-20be-4028-8342-1e250238aa87",
   "metadata": {},
   "source": [
    "# First test with jupyter notebook\n",
    "\n",
    "https://docs.manim.community/en/stable/installation/jupyter.html\n",
    "  \n",
    "- author : Sylvie Dagoret-Campagne\n",
    "- creation date : 2025-07-06"
   ]
  },
  {
   "cell_type": "markdown",
   "id": "5fa05a52-03c3-4dcf-b2fb-c59e43a4daf0",
   "metadata": {},
   "source": [
    "- python conda environment : my-manim-environment\n",
    "- `conda install ipykernel`\n",
    "- `python -m ipykernel install --user --name my-manim-environment --display-name \"my-manim-environment\"`"
   ]
  },
  {
   "cell_type": "code",
   "execution_count": null,
   "id": "a60696fb-4c96-4384-9571-9ea814121a20",
   "metadata": {},
   "outputs": [],
   "source": [
    "from manim import *"
   ]
  },
  {
   "cell_type": "code",
   "execution_count": null,
   "id": "1cc87bb8-103c-438d-90ea-b4225377664a",
   "metadata": {},
   "outputs": [],
   "source": [
    "%%manim -qm -v WARNING SquareToCircle\n",
    "\n",
    "class SquareToCircle(Scene):\n",
    "   def construct(self):\n",
    "      square = Square()\n",
    "      circle = Circle()\n",
    "      circle.set_fill(PINK, opacity=0.5)\n",
    "      self.play(Create(square))\n",
    "      self.play(Transform(square, circle))\n",
    "      self.wait()"
   ]
  },
  {
   "cell_type": "code",
   "execution_count": null,
   "id": "639c2757-da85-40ed-84d6-f20a6346e752",
   "metadata": {},
   "outputs": [],
   "source": []
  }
 ],
 "metadata": {
  "kernelspec": {
   "display_name": "my-manim-environment",
   "language": "python",
   "name": "my-manim-environment"
  },
  "language_info": {
   "codemirror_mode": {
    "name": "ipython",
    "version": 3
   },
   "file_extension": ".py",
   "mimetype": "text/x-python",
   "name": "python",
   "nbconvert_exporter": "python",
   "pygments_lexer": "ipython3",
   "version": "3.12.11"
  }
 },
 "nbformat": 4,
 "nbformat_minor": 5
}
