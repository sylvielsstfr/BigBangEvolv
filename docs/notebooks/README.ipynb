{
 "cells": [
  {
   "cell_type": "markdown",
   "id": "e9cfe729-f499-4946-b29d-8e037ba34f9e",
   "metadata": {},
   "source": [
    "# README.ipynb"
   ]
  },
  {
   "cell_type": "markdown",
   "id": "9d88836f-6b2f-4099-ac9b-6b8c8207b22c",
   "metadata": {},
   "source": [
    "## list of notebooks"
   ]
  },
  {
   "cell_type": "markdown",
   "id": "cd0212f2-b2d3-4d74-b55c-db1b2e6cbd0a",
   "metadata": {},
   "source": [
    "- begin here ! [first notebook to show how to call manim from a notebook](01-nbmanim-squaretocircle.ipynb)\n",
    "\n",
    "This example is taken from https://docs.manim.community/en/stable/installation/jupyter.html"
   ]
  },
  {
   "cell_type": "markdown",
   "id": "db1a934b-6257-4249-b827-6addcb4f2206",
   "metadata": {},
   "source": [
    "! ls"
   ]
  },
  {
   "cell_type": "code",
   "execution_count": null,
   "id": "3e1b103a-7c2f-42be-b135-d4b173cc26a8",
   "metadata": {},
   "outputs": [],
   "source": [
    "!ls"
   ]
  },
  {
   "cell_type": "markdown",
   "id": "c87fb99b-7b70-4a90-93f2-1b3de2adbc90",
   "metadata": {},
   "source": [
    "- [Notebook with astropy and matplotlib only](02-scalefactorwithastropy.ipynb)"
   ]
  },
  {
   "cell_type": "code",
   "execution_count": null,
   "id": "784ffe90-d5f7-4d42-bf31-e989af2c7ee5",
   "metadata": {},
   "outputs": [],
   "source": []
  }
 ],
 "metadata": {
  "kernelspec": {
   "display_name": "my-manim-environment",
   "language": "python",
   "name": "my-manim-environment"
  },
  "language_info": {
   "codemirror_mode": {
    "name": "ipython",
    "version": 3
   },
   "file_extension": ".py",
   "mimetype": "text/x-python",
   "name": "python",
   "nbconvert_exporter": "python",
   "pygments_lexer": "ipython3",
   "version": "3.12.11"
  }
 },
 "nbformat": 4,
 "nbformat_minor": 5
}
